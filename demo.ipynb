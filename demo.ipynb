{
  "cells": [
    {
      "cell_type": "code",
      "execution_count": 1,
      "metadata": {
        "id": "Ybp2H_FLgjkR"
      },
      "outputs": [],
      "source": [
        "import os\n",
        "os.environ['CUDA_VISIBLE_DEVICES'] = '-1'\n",
        "\n",
        "# try:\n",
        "#   from rclp import rclp.LinearPool\n",
        "# except:\n",
        "#   !pip install git+https://github.com/reichlab/qenspy@params\n",
        "#   from qenspy import qens\n",
        "\n",
        "from rclp.rclp import LinearPool\n",
        "\n",
        "import numpy as np\n",
        "import tensorflow as tf\n",
        "from matplotlib import pyplot as plt\n",
        "\n",
        "from numpy.random import default_rng\n",
        "from scipy.stats import norm"
      ]
    },
    {
      "cell_type": "code",
      "execution_count": 2,
      "metadata": {},
      "outputs": [
        {
          "data": {
            "image/png": "[encoded data removed]",
            "text/plain": [
              "<Figure size 432x288 with 1 Axes>"
            ]
          },
          "metadata": {
            "needs_background": "light"
          },
          "output_type": "display_data"
        }
      ],
      "source": [
        "# simulate data from a mixture of normal distributions\n",
        "# mixture parameters\n",
        "w = [0.1, 0.6, 0.3]\n",
        "mu = np.array([-1.0, 0.0, 2.0])\n",
        "sigma = np.array([1.0, 0.5, 2.0])\n",
        "\n",
        "# sample size\n",
        "n = 1000\n",
        "\n",
        "# init rng\n",
        "rng = default_rng(42)\n",
        "\n",
        "# mixture component indicator; there is probably a better way?\n",
        "z = np.argmax(rng.multinomial(n=1, pvals=w, size=n), axis=1)\n",
        "\n",
        "# sampled values of outcome variable\n",
        "y = rng.standard_normal(n) * sigma[z] + mu[z]\n",
        "\n",
        "# make a plot with histogram of sampled values and exact density of the mixture\n",
        "y_grid = np.linspace(start=-4.0, stop=8.0, num=201)\n",
        "f = w[0] * norm.pdf(y_grid, loc=mu[0], scale=sigma[0]) + \\\n",
        "    w[1] * norm.pdf(y_grid, loc=mu[1], scale=sigma[1]) + \\\n",
        "    w[2] * norm.pdf(y_grid, loc=mu[2], scale=sigma[2])\n",
        "plt.hist(y, bins=30, density=True, histtype='stepfilled', alpha=0.5)\n",
        "plt.plot(y_grid, f)\n",
        "plt.show()"
      ]
    },
    {
      "cell_type": "code",
      "execution_count": 3,
      "metadata": {
        "id": "EDjHZ7UZLPMA",
        "tags": [
          "outputPrepend"
        ]
      },
      "outputs": [],
      "source": [
        "# fit a weighted mean ensemble to attempt to recover the mixture weights,\n",
        "# assuming the component distributions are known\n",
        "\n",
        "# first, calculate the log pdf and cdf values of each y from the component distributions\n",
        "# arranged in arrays of shape (1000, 3)\n",
        "log_f = np.stack([norm.logpdf(y, loc=mu[i], scale=sigma[i]) for i in range(3)], axis=1)\n",
        "log_F = np.stack([norm.logcdf(y, loc=mu[i], scale=sigma[i]) for i in range(3)], axis=1)\n",
        "\n",
        "# define a linear pool object for 3 component models and fit it\n",
        "lp = LinearPool(M=3)\n",
        "lp.fit(log_f = log_f, log_F = log_F, optim_method=\"adam\", num_iter=100, learning_rate=0.1)"
      ]
    },
    {
      "cell_type": "code",
      "execution_count": 4,
      "metadata": {},
      "outputs": [
        {
          "data": {
            "text/plain": [
              "{'w': <tf.Tensor: shape=(3,), dtype=float32, numpy=array([0.10893007, 0.5879695 , 0.30310047], dtype=float32)>}"
            ]
          },
          "execution_count": 4,
          "metadata": {},
          "output_type": "execute_result"
        }
      ],
      "source": [
        "# estimated ensemble parameters\n",
        "# compare to true values of [0.1, 0.6, 0.3]\n",
        "lp.unpack_params(lp.get_param_estimates_vec())"
      ]
    },
    {
      "cell_type": "code",
      "execution_count": 5,
      "metadata": {},
      "outputs": [
        {
          "data": {
            "text/plain": [
              "[<matplotlib.lines.Line2D at 0x1794cd760>]"
            ]
          },
          "execution_count": 5,
          "metadata": {},
          "output_type": "execute_result"
        },
        {
          "data": {
            "image/png": "[encoded data removed]",
            "text/plain": [
              "<Figure size 432x288 with 1 Axes>"
            ]
          },
          "metadata": {
            "needs_background": "light"
          },
          "output_type": "display_data"
        }
      ],
      "source": [
        "# plot loss trace\n",
        "plt.plot(lp.loss_trace)"
      ]
    }
  ],
  "metadata": {
    "colab": {
      "name": "demo.ipynb",
      "provenance": []
    },
    "kernelspec": {
      "display_name": "Python 3.9.10 64-bit",
      "language": "python",
      "name": "python3"
    },
    "language_info": {
      "codemirror_mode": {
        "name": "ipython",
        "version": 3
      },
      "file_extension": ".py",
      "mimetype": "text/x-python",
      "name": "python",
      "nbconvert_exporter": "python",
      "pygments_lexer": "ipython3",
      "version": "3.9.10"
    },
    "metadata": {
      "interpreter": {
        "hash": "aee8b7b246df8f9039afb4144a1f6fd8d2ca17a180786b69acc140d282b71a49"
      }
    },
    "vscode": {
      "interpreter": {
        "hash": "aee8b7b246df8f9039afb4144a1f6fd8d2ca17a180786b69acc140d282b71a49"
      }
    }
  },
  "nbformat": 4,
  "nbformat_minor": 0
}
